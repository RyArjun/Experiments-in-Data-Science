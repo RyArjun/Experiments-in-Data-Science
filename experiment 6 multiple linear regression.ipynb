{
 "cells": [
  {
   "cell_type": "code",
   "execution_count": 1,
   "metadata": {},
   "outputs": [],
   "source": [
    "import pandas as pd\n",
    "import numpy as np\n",
    "import matplotlib.pyplot as plt\n",
    "import seaborn as sns\n"
   ]
  },
  {
   "cell_type": "code",
   "execution_count": 4,
   "metadata": {},
   "outputs": [
    {
     "data": {
      "text/html": [
       "<div>\n",
       "<style scoped>\n",
       "    .dataframe tbody tr th:only-of-type {\n",
       "        vertical-align: middle;\n",
       "    }\n",
       "\n",
       "    .dataframe tbody tr th {\n",
       "        vertical-align: top;\n",
       "    }\n",
       "\n",
       "    .dataframe thead th {\n",
       "        text-align: right;\n",
       "    }\n",
       "</style>\n",
       "<table border=\"1\" class=\"dataframe\">\n",
       "  <thead>\n",
       "    <tr style=\"text-align: right;\">\n",
       "      <th></th>\n",
       "      <th>HP</th>\n",
       "      <th>MPG</th>\n",
       "      <th>VOL</th>\n",
       "      <th>SP</th>\n",
       "      <th>WT</th>\n",
       "    </tr>\n",
       "  </thead>\n",
       "  <tbody>\n",
       "    <tr>\n",
       "      <th>0</th>\n",
       "      <td>49</td>\n",
       "      <td>53.700681</td>\n",
       "      <td>89</td>\n",
       "      <td>104.185353</td>\n",
       "      <td>28.762059</td>\n",
       "    </tr>\n",
       "    <tr>\n",
       "      <th>1</th>\n",
       "      <td>55</td>\n",
       "      <td>50.013401</td>\n",
       "      <td>92</td>\n",
       "      <td>105.461264</td>\n",
       "      <td>30.466833</td>\n",
       "    </tr>\n",
       "    <tr>\n",
       "      <th>2</th>\n",
       "      <td>55</td>\n",
       "      <td>50.013401</td>\n",
       "      <td>92</td>\n",
       "      <td>105.461264</td>\n",
       "      <td>30.193597</td>\n",
       "    </tr>\n",
       "    <tr>\n",
       "      <th>3</th>\n",
       "      <td>70</td>\n",
       "      <td>45.696322</td>\n",
       "      <td>92</td>\n",
       "      <td>113.461264</td>\n",
       "      <td>30.632114</td>\n",
       "    </tr>\n",
       "    <tr>\n",
       "      <th>4</th>\n",
       "      <td>53</td>\n",
       "      <td>50.504232</td>\n",
       "      <td>92</td>\n",
       "      <td>104.461264</td>\n",
       "      <td>29.889149</td>\n",
       "    </tr>\n",
       "  </tbody>\n",
       "</table>\n",
       "</div>"
      ],
      "text/plain": [
       "   HP        MPG  VOL          SP         WT\n",
       "0  49  53.700681   89  104.185353  28.762059\n",
       "1  55  50.013401   92  105.461264  30.466833\n",
       "2  55  50.013401   92  105.461264  30.193597\n",
       "3  70  45.696322   92  113.461264  30.632114\n",
       "4  53  50.504232   92  104.461264  29.889149"
      ]
     },
     "execution_count": 4,
     "metadata": {},
     "output_type": "execute_result"
    }
   ],
   "source": [
    "df=pd.read_csv('Cars (2).csv')\n",
    "df.head()"
   ]
  },
  {
   "cell_type": "code",
   "execution_count": 7,
   "metadata": {},
   "outputs": [
    {
     "name": "stderr",
     "output_type": "stream",
     "text": [
      "C:\\Users\\Arjun Sawant\\anaconda3\\lib\\site-packages\\seaborn\\distributions.py:2551: FutureWarning: `distplot` is a deprecated function and will be removed in a future version. Please adapt your code to use either `displot` (a figure-level function with similar flexibility) or `kdeplot` (an axes-level function for kernel density plots).\n",
      "  warnings.warn(msg, FutureWarning)\n"
     ]
    },
    {
     "data": {
      "text/plain": [
       "<AxesSubplot:xlabel='HP', ylabel='Density'>"
      ]
     },
     "execution_count": 7,
     "metadata": {},
     "output_type": "execute_result"
    },
    {
     "data": {
      "image/png": "[encoded data removed]",
      "text/plain": [
       "<Figure size 432x288 with 1 Axes>"
      ]
     },
     "metadata": {
      "needs_background": "light"
     },
     "output_type": "display_data"
    }
   ],
   "source": [
    "sns.distplot(df['HP'],hist=False)"
   ]
  },
  {
   "cell_type": "code",
   "execution_count": 12,
   "metadata": {},
   "outputs": [
    {
     "data": {
      "text/html": [
       "<div>\n",
       "<style scoped>\n",
       "    .dataframe tbody tr th:only-of-type {\n",
       "        vertical-align: middle;\n",
       "    }\n",
       "\n",
       "    .dataframe tbody tr th {\n",
       "        vertical-align: top;\n",
       "    }\n",
       "\n",
       "    .dataframe thead th {\n",
       "        text-align: right;\n",
       "    }\n",
       "</style>\n",
       "<table border=\"1\" class=\"dataframe\">\n",
       "  <thead>\n",
       "    <tr style=\"text-align: right;\">\n",
       "      <th></th>\n",
       "      <th>HP</th>\n",
       "      <th>MPG</th>\n",
       "      <th>VOL</th>\n",
       "      <th>SP</th>\n",
       "      <th>WT</th>\n",
       "    </tr>\n",
       "  </thead>\n",
       "  <tbody>\n",
       "    <tr>\n",
       "      <th>HP</th>\n",
       "      <td>1.000000</td>\n",
       "      <td>-0.725038</td>\n",
       "      <td>0.077459</td>\n",
       "      <td>0.973848</td>\n",
       "      <td>0.076513</td>\n",
       "    </tr>\n",
       "    <tr>\n",
       "      <th>MPG</th>\n",
       "      <td>-0.725038</td>\n",
       "      <td>1.000000</td>\n",
       "      <td>-0.529057</td>\n",
       "      <td>-0.687125</td>\n",
       "      <td>-0.526759</td>\n",
       "    </tr>\n",
       "    <tr>\n",
       "      <th>VOL</th>\n",
       "      <td>0.077459</td>\n",
       "      <td>-0.529057</td>\n",
       "      <td>1.000000</td>\n",
       "      <td>0.102170</td>\n",
       "      <td>0.999203</td>\n",
       "    </tr>\n",
       "    <tr>\n",
       "      <th>SP</th>\n",
       "      <td>0.973848</td>\n",
       "      <td>-0.687125</td>\n",
       "      <td>0.102170</td>\n",
       "      <td>1.000000</td>\n",
       "      <td>0.102439</td>\n",
       "    </tr>\n",
       "    <tr>\n",
       "      <th>WT</th>\n",
       "      <td>0.076513</td>\n",
       "      <td>-0.526759</td>\n",
       "      <td>0.999203</td>\n",
       "      <td>0.102439</td>\n",
       "      <td>1.000000</td>\n",
       "    </tr>\n",
       "  </tbody>\n",
       "</table>\n",
       "</div>"
      ],
      "text/plain": [
       "           HP       MPG       VOL        SP        WT\n",
       "HP   1.000000 -0.725038  0.077459  0.973848  0.076513\n",
       "MPG -0.725038  1.000000 -0.529057 -0.687125 -0.526759\n",
       "VOL  0.077459 -0.529057  1.000000  0.102170  0.999203\n",
       "SP   0.973848 -0.687125  0.102170  1.000000  0.102439\n",
       "WT   0.076513 -0.526759  0.999203  0.102439  1.000000"
      ]
     },
     "execution_count": 12,
     "metadata": {},
     "output_type": "execute_result"
    }
   ],
   "source": [
    "corel=df.corr()\n",
    "corel"
   ]
  },
  {
   "cell_type": "code",
   "execution_count": 13,
   "metadata": {},
   "outputs": [],
   "source": [
    "from sklearn import linear_model"
   ]
  },
  {
   "cell_type": "code",
   "execution_count": 14,
   "metadata": {},
   "outputs": [],
   "source": [
    "model1=linear_model.LinearRegression()"
   ]
  },
  {
   "cell_type": "code",
   "execution_count": 20,
   "metadata": {},
   "outputs": [],
   "source": [
    "X=df.drop('MPG',axis=1)\n",
    "Y=df['MPG']"
   ]
  },
  {
   "cell_type": "code",
   "execution_count": 22,
   "metadata": {},
   "outputs": [
    {
     "data": {
      "text/plain": [
       "LinearRegression()"
      ]
     },
     "execution_count": 22,
     "metadata": {},
     "output_type": "execute_result"
    }
   ],
   "source": [
    "model1.fit(X,Y)"
   ]
  },
  {
   "cell_type": "code",
   "execution_count": 24,
   "metadata": {},
   "outputs": [],
   "source": [
    "y_pred=model1.predict(X)"
   ]
  },
  {
   "cell_type": "code",
   "execution_count": 25,
   "metadata": {},
   "outputs": [
    {
     "data": {
      "text/plain": [
       "array([43.44193477, 42.38879289, 42.27934147, 42.53835981, 42.17264802,\n",
       "       43.02061916, 42.32536062, 48.07621852, 48.28120247, 40.79122814,\n",
       "       41.52153227, 47.80956747, 39.95980269, 41.52757889, 41.76632332,\n",
       "       41.6181448 , 41.15094046, 47.98605515, 41.30861046, 37.87127922,\n",
       "       38.57706414, 37.35199705, 37.89770285, 39.5625144 , 39.93380662,\n",
       "       46.73870908, 35.48165898, 38.78152504, 38.24861192, 36.00285298,\n",
       "       34.84603989, 37.21630246, 37.13919796, 34.82541399, 37.22361389,\n",
       "       37.53950097, 39.27144845, 38.24219888, 38.54286458, 35.9391722 ,\n",
       "       34.2129755 , 35.36313259, 37.50473376, 38.07998482, 35.79651664,\n",
       "       36.2613377 , 34.21826465, 35.59393404, 36.91805291, 33.31108154,\n",
       "       33.21313413, 33.3023649 , 29.19864884, 27.52358579, 28.3207133 ,\n",
       "       28.56722621, 35.81583602, 33.02108459, 35.37334971, 32.29909503,\n",
       "       29.87685849, 28.76093817, 25.14188416, 26.47040896, 25.97651933,\n",
       "       36.35652478, 26.0975912 , 23.6416178 , 24.39887199, 20.21195358,\n",
       "       27.80846468, 22.44206834, 23.07667801, 18.717314  , 23.84934696,\n",
       "       21.07461275, 21.28209598, 17.89904991, 26.13645315, 12.31661154,\n",
       "       15.55948057])"
      ]
     },
     "execution_count": 25,
     "metadata": {},
     "output_type": "execute_result"
    }
   ],
   "source": [
    "y_pred"
   ]
  },
  {
   "cell_type": "code",
   "execution_count": 27,
   "metadata": {},
   "outputs": [
    {
     "data": {
      "text/plain": [
       "0     10.258747\n",
       "1      7.624608\n",
       "2      7.734060\n",
       "3      3.157963\n",
       "4      8.331584\n",
       "        ...    \n",
       "76    15.617904\n",
       "77     1.298838\n",
       "78     7.863547\n",
       "79     7.517122\n",
       "80    -3.458218\n",
       "Name: MPG, Length: 81, dtype: float64"
      ]
     },
     "execution_count": 27,
     "metadata": {},
     "output_type": "execute_result"
    }
   ],
   "source": [
    "error=Y-y_pred\n",
    "error"
   ]
  },
  {
   "cell_type": "code",
   "execution_count": 29,
   "metadata": {},
   "outputs": [
    {
     "data": {
      "image/png": "[encoded data removed]",
      "text/plain": [
       "<Figure size 432x288 with 1 Axes>"
      ]
     },
     "metadata": {
      "needs_background": "light"
     },
     "output_type": "display_data"
    }
   ],
   "source": [
    "plt.scatter(x = Y,y = y_pred)\n",
    "plt.xlabel('Actual Output')\n",
    "plt.ylabel('Predicted Output')\n",
    "plt.title('Zero Residual Mean Test')\n",
    "plt.show()"
   ]
  },
  {
   "cell_type": "code",
   "execution_count": 31,
   "metadata": {},
   "outputs": [],
   "source": [
    "from sklearn.model_selection import train_test_split\n",
    "X_train,X_test,y_train,y_test = train_test_split(X,Y,test_size=0.20,random_state=None,shuffle=True)"
   ]
  },
  {
   "cell_type": "code",
   "execution_count": 33,
   "metadata": {},
   "outputs": [
    {
     "data": {
      "text/plain": [
       "LinearRegression()"
      ]
     },
     "execution_count": 33,
     "metadata": {},
     "output_type": "execute_result"
    }
   ],
   "source": [
    "model2=linear_model.LinearRegression()\n",
    "model2.fit(X_train,y_train)"
   ]
  },
  {
   "cell_type": "code",
   "execution_count": 40,
   "metadata": {},
   "outputs": [
    {
     "data": {
      "text/plain": [
       "11.427122406255322"
      ]
     },
     "execution_count": 40,
     "metadata": {},
     "output_type": "execute_result"
    }
   ],
   "source": [
    "from sklearn.metrics import mean_squared_error\n",
    "y_pred_train=model2.predict(X_train)\n",
    "mean_squared_error(y_train,y_pred_train)"
   ]
  },
  {
   "cell_type": "code",
   "execution_count": 41,
   "metadata": {},
   "outputs": [
    {
     "data": {
      "text/plain": [
       "58.814862223237945"
      ]
     },
     "execution_count": 41,
     "metadata": {},
     "output_type": "execute_result"
    }
   ],
   "source": [
    "y_pred_test=model2.predict(X_test)\n",
    "mean_squared_error(y_test,y_pred_test)"
   ]
  },
  {
   "cell_type": "code",
   "execution_count": 38,
   "metadata": {},
   "outputs": [
    {
     "data": {
      "text/plain": [
       "array([33.75849363, 33.59110118, 42.42855571, 36.36577475, 18.88868145,\n",
       "       37.73766958, 15.42485577, 48.16007438, 22.73456277, 41.09804953,\n",
       "       14.85730689,  7.96093808, 29.01750122, 39.0232846 , 27.99883254,\n",
       "       42.71759504, 42.03014722])"
      ]
     },
     "execution_count": 38,
     "metadata": {},
     "output_type": "execute_result"
    }
   ],
   "source": [
    "y_pred_test"
   ]
  },
  {
   "cell_type": "code",
   "execution_count": null,
   "metadata": {},
   "outputs": [],
   "source": []
  }
 ],
 "metadata": {
  "kernelspec": {
   "display_name": "Python 3",
   "language": "python",
   "name": "python3"
  },
  "language_info": {
   "codemirror_mode": {
    "name": "ipython",
    "version": 3
   },
   "file_extension": ".py",
   "mimetype": "text/x-python",
   "name": "python",
   "nbconvert_exporter": "python",
   "pygments_lexer": "ipython3",
   "version": "3.8.5"
  }
 },
 "nbformat": 4,
 "nbformat_minor": 4
}
