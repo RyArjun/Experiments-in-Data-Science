{
 "cells": [
  {
   "cell_type": "code",
   "execution_count": 1,
   "metadata": {},
   "outputs": [],
   "source": [
    "import pandas as pd\n",
    "import numpy as np\n",
    "import matplotlib.pyplot as plt\n",
    "import seaborn as sns"
   ]
  },
  {
   "cell_type": "code",
   "execution_count": null,
   "metadata": {},
   "outputs": [],
   "source": [
    "df=pd.read_csv('iris.csv')\n",
    "df.head()\n",
    "#histogram\n",
    "#plt.hist(df['sepal.length'])\n",
    "df['sepal.length'].plot(kind='hist')\n",
    "plt.show()\n",
    "plt.scatter(data=df,x='sepal.length',y='sepal.width')\n",
    "sns.scatterplot(data=df)\n",
    "sns.jointplot(x='sepal.length',y='sepal.width',data=df,size=5)\n",
    "sns.boxplot(x='variety',y='petal.length',palette='husl',data=df)\n",
    "#facetgrid\n",
    "sns.FacetGrid(data=df,hue='variety',palette='husl',height=5)\\\n",
    ".map(sns.kdeplot,'petal.length')\\\n",
    ".add_legend()\n",
    "#pairplot\n",
    "sns.pairplot(hue='variety',size=3,data=df)\n",
    "from pandas.plotting import parallel_coordinates\n",
    "parallel_coordinates(df,'variety',colormap='rainbow')\n",
    "from pandas.plotting import andrews_curves\n",
    "andrews_curves(df,'variety',colormap='rainbow')"
   ]
  },
  {
   "cell_type": "code",
   "execution_count": null,
   "metadata": {},
   "outputs": [],
   "source": [
    "\n",
    "sns.FacetGrid(data=df,hue='variety',palette='husl',height=5)\\\n",
    ".map(sns.kdeplot,'petal.length')\\\n",
    ".add_legend()"
   ]
  },
  {
   "cell_type": "code",
   "execution_count": null,
   "metadata": {},
   "outputs": [],
   "source": []
  },
  {
   "cell_type": "code",
   "execution_count": null,
   "metadata": {},
   "outputs": [],
   "source": []
  }
 ],
 "metadata": {
  "kernelspec": {
   "display_name": "Python 3",
   "language": "python",
   "name": "python3"
  },
  "language_info": {
   "codemirror_mode": {
    "name": "ipython",
    "version": 3
   },
   "file_extension": ".py",
   "mimetype": "text/x-python",
   "name": "python",
   "nbconvert_exporter": "python",
   "pygments_lexer": "ipython3",
   "version": "3.8.5"
  }
 },
 "nbformat": 4,
 "nbformat_minor": 4
}
