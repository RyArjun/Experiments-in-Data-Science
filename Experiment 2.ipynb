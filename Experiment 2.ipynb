{
 "cells": [
  {
   "cell_type": "code",
   "execution_count": 2,
   "metadata": {},
   "outputs": [],
   "source": [
    "import pandas as pd\n",
    "import numpy as np\n",
    "import matplotlib.pyplot as plt\n",
    "import warnings\n",
    "warnings.filterwarnings('ignore')\n",
    "import statistics"
   ]
  },
  {
   "cell_type": "code",
   "execution_count": 3,
   "metadata": {},
   "outputs": [],
   "source": [
    "test=np.random.randint(30,70,1000)\n",
    "mean=statistics.mean(test)\n",
    "median=statistics.median(test)\n",
    "SD=np.std(test)"
   ]
  },
  {
   "cell_type": "code",
   "execution_count": 4,
   "metadata": {},
   "outputs": [],
   "source": [
    "size=10000\n",
    "values=np.random.normal(mean,SD)\n"
   ]
  },
  {
   "cell_type": "code",
   "execution_count": 43,
   "metadata": {},
   "outputs": [],
   "source": [
    "plt.hist(values,100)\n",
    "plt.axvline(values.np.mean(),color='b',linestyle=\"--\",linewidth=2)\n",
    "plt.show()"
   ]
  },
  {
   "cell_type": "code",
   "execution_count": null,
   "metadata": {},
   "outputs": [],
   "source": [
    "#clt\n",
    "roll=np.random.randint(1,6,100)\n",
    "means=[np.mean(np.random.randint(1,6,100)) for _ in range(1000)]\n",
    "plt.hist(means)\n",
    "plt.show()\n",
    "np.mean(means)\n",
    "import seaborn as sns\n",
    "sns.displot(data=means,kind='kde')"
   ]
  },
  {
   "cell_type": "code",
   "execution_count": null,
   "metadata": {},
   "outputs": [],
   "source": [
    "#correlation\n",
    "import sklearn\n",
    "np.random.seed(100)\n",
    "x=np.random.randint(0,10,50)\n",
    "np.corrcoef(x,x)\n",
    "y=x+np.random.randint(0,10,50)\n",
    "np.corrcoef(x,y)\n",
    "plt.scatter(x,y)\n",
    "sns.heatmap(np.corrcoef(x,y),annot=True)"
   ]
  },
  {
   "cell_type": "code",
   "execution_count": null,
   "metadata": {},
   "outputs": [],
   "source": []
  }
 ],
 "metadata": {
  "kernelspec": {
   "display_name": "Python 3",
   "language": "python",
   "name": "python3"
  },
  "language_info": {
   "codemirror_mode": {
    "name": "ipython",
    "version": 3
   },
   "file_extension": ".py",
   "mimetype": "text/x-python",
   "name": "python",
   "nbconvert_exporter": "python",
   "pygments_lexer": "ipython3",
   "version": "3.8.5"
  }
 },
 "nbformat": 4,
 "nbformat_minor": 4
}
